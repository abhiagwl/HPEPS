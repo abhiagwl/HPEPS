{
 "cells": [
  {
   "cell_type": "code",
   "execution_count": 74,
   "metadata": {
    "collapsed": true
   },
   "outputs": [],
   "source": [
    "import numpy as np\n",
    "import cv2\n",
    "import math\n",
    "%matplotlib inline\n",
    "import matplotlib.pyplot as plt\n",
    "from scipy.ndimage.filters import gaussian_filter\n",
    "import collections\n",
    "import os.path as osp\n",
    "import os\n",
    "import PIL.Image\n",
    "import scipy.io"
   ]
  },
  {
   "cell_type": "code",
   "execution_count": 151,
   "metadata": {
    "collapsed": true
   },
   "outputs": [],
   "source": [
    "def genmat(path,image):\n",
    "    H,W,_ = image.shape\n",
    "    xcount = 0\n",
    "    # Hn = np.ceil(H/8).astype(np.int64)\n",
    "    # Wn = np.ceil(W/8).astype(np.int64)\n",
    "    mat = scipy.io.loadmat(path)\n",
    "    limbs = [[0,1],[1,2],[2,3],[3,4],[1,5],[5,6],[6,7],[1,8],[8,9],[9,10],[1,11],[11,12],[12,13]]\n",
    "    out = np.zeros((14,H,W))\n",
    "    paf = np.zeros((26,H,W))\n",
    "    x, y = np.meshgrid(np.arange(W), np.arange(H))\n",
    "    for human in mat['joints'][0]:\n",
    "        poselist = np.around(human[:,:-1]).astype(np.int64)\n",
    "        # poselist[:,0] = poselist[:,0]*Hn/H\n",
    "        # poselist[:,1] = poselist[:,1]*Wn/W\n",
    "        vis = human[:,2]\n",
    "        #PAF GT\n",
    "        for (i,limb) in enumerate(limbs):\n",
    "            p1 = poselist[limb[0],:]\n",
    "            p2 = poselist[limb[1],:]\n",
    "            if not (vis[limb[0]]==0 or vis[limb[1]]==0):\n",
    "                if (p1[0]==p2[0] and p1[1]==p2[1]):\n",
    "                    xcount+=1\n",
    "                    print(xcount)\n",
    "    #             if (np.all(p1>0) and np.all(p2>0)):\n",
    "                #APPROX RECON\n",
    "                dvec = (p2-p1)/np.linalg.norm(p2-p1)\n",
    "                vecx = x - p1[0]\n",
    "                vecy = y - p1[1]\n",
    "                dot = vecx*dvec[0] + vecy*dvec[1]\n",
    "                perp2 = vecx**2+vecy**2-dot**2\n",
    "                boolmat = (dot>0) & (dot<np.linalg.norm(p2-p1)) & (perp2<np.linalg.norm(p2-p1)*0.4) #sigma^2\n",
    "                paf[2*i][boolmat] = dvec[0]\n",
    "                paf[2*i+1][boolmat] = dvec[1]\n",
    "    #                     print(dvec)\n",
    "        #POSE GT\n",
    "    #             print(human)\n",
    "        for (i,pose) in enumerate(poselist):\n",
    "    #                 print(pose)\n",
    "            if not (vis[i]==0):\n",
    "                tmp = np.exp(-((x-pose[0])**2 + (y-pose[1])**2)/(2.0*10.0))\n",
    "                out[i] = np.maximum(out[i],tmp)\n",
    "    return out,paf"
   ]
  },
  {
   "cell_type": "code",
   "execution_count": 152,
   "metadata": {},
   "outputs": [],
   "source": [
    "test_par = 0.001\n",
    "root = '/extra_data/ayushya'\n",
    "files = collections.defaultdict(list)\n",
    "\n",
    "for split in ['train', 'val']:\n",
    "            imgsets_file = osp.join(root,'pascal_data/pascal_data/%s_idnew.txt' % split)\n",
    "            np.random.seed(2)\n",
    "            img_id_list = [did.strip() for did in open(imgsets_file)]\n",
    "            np.random.shuffle(img_id_list)\n",
    "            img_id_list = img_id_list[:np.ceil(test_par*len(img_id_list)).astype(np.int32)]\n",
    "            for did in img_id_list:\n",
    "                img_file = osp.join(root, 'VOCdevkit/VOC2010/JPEGImages/%s.jpg' % did)\n",
    "                lbl_file = osp.join(root, 'pascal_data/pascal_data/PersonJoints/%s.mat' % did)\n",
    "                files[split].append({\n",
    "                    'img': img_file,\n",
    "                    'lbl': lbl_file,\n",
    "                })"
   ]
  },
  {
   "cell_type": "code",
   "execution_count": 153,
   "metadata": {},
   "outputs": [],
   "source": [
    "# for ifile in files['val']:\n",
    "ifile = files['val'][0]\n",
    "segment = PIL.Image.open(ifile['img'])\n",
    "segment = np.array(segment,dtype=np.uint8)\n",
    "input_pose,input_paf = genmat(ifile['lbl'],segment)\n",
    "\n",
    "# input_pose = cv2.resize(input_pose,(0,0),fx=0.125,fy=0.125,interpolation=cv2.INTER_CUBIC)\n",
    "# input_paf = cv2.resize(input_paf,(0,0),fx=0.125,fy=0.125,interpolation=cv2.INTER_CUBIC)"
   ]
  },
  {
   "cell_type": "code",
   "execution_count": 154,
   "metadata": {},
   "outputs": [],
   "source": [
    "# input_pose = np.random.random((14,32,32))\n",
    "# input_paf = np.random.random((26,32,32))\n",
    "# input_pose = np.zeros((14,32,32))\n",
    "# # input_paf = np.zeros((26,32,32))\n",
    "# input_pose[:,10,10] = 0.9\n",
    "# input_pose[:,15,15] = 0.9"
   ]
  },
  {
   "cell_type": "code",
   "execution_count": 292,
   "metadata": {},
   "outputs": [
    {
     "name": "stderr",
     "output_type": "stream",
     "text": [
      "/users/gpu/ayushya/miniconda2/envs/ayushya/lib/python2.7/site-packages/ipykernel_launcher.py:6: VisibleDeprecationWarning: boolean index did not match indexed array along dimension 2; dimension is 26 but corresponding boolean dimension is 14\n",
      "  \n"
     ]
    }
   ],
   "source": [
    "input_pose = np.transpose(input_pose,(1,2,0))\n",
    "input_paf = np.transpose(input_paf,(1,2,0))\n",
    "# input_pose = cv2.resize(input_pose,(0,0),fx=8,fy=8,interpolation=cv2.INTER_CUBIC)\n",
    "# input_paf = cv2.resize(input_paf,(0,0),fx=8,fy=8,interpolation=cv2.INTER_CUBIC)\n",
    "input_pose[np.repeat(np.max(input_paf,axis=2)[:,:,np.newaxis],14,axis=2)==0] = 0\n",
    "input_paf[np.repeat(np.max(input_paf,axis=2)[:,:,np.newaxis],14,axis=2)==0] = 0\n",
    "input_pose = np.transpose(input_pose,(2,0,1))\n",
    "input_paf = np.transpose(input_paf,(2,0,1))\n",
    "def fun1(arr):\n",
    "    count = 0\n",
    "    for ind in range(len(arr)):\n",
    "        d = arr[ind]\n",
    "        if d>0.001:\n",
    "            count = count + 1\n",
    "    return count"
   ]
  },
  {
   "cell_type": "code",
   "execution_count": 293,
   "metadata": {},
   "outputs": [
    {
     "data": {
      "image/png": "[encoded data removed]",
      "text/plain": [
       "<matplotlib.figure.Figure at 0x7fd148dccbd0>"
      ]
     },
     "metadata": {},
     "output_type": "display_data"
    },
    {
     "data": {
      "image/png": "[encoded data removed]",
      "text/plain": [
       "<matplotlib.figure.Figure at 0x7fd149255510>"
      ]
     },
     "metadata": {},
     "output_type": "display_data"
    }
   ],
   "source": [
    "plt.figure()\n",
    "plt.imshow(np.max(input_pose,axis=0))\n",
    "plt.figure()\n",
    "plt.imshow(np.max(input_paf,axis=0))\n",
    "plt.show()"
   ]
  },
  {
   "cell_type": "code",
   "execution_count": 294,
   "metadata": {},
   "outputs": [
    {
     "name": "stdout",
     "output_type": "stream",
     "text": [
      "3\n",
      "3\n",
      "3\n",
      "4\n",
      "3\n",
      "3\n",
      "3\n",
      "0\n",
      "3\n",
      "3\n",
      "2\n",
      "3\n",
      "3\n",
      "0\n",
      "36\n",
      "(162, 252, 0.86070797642505781, 0)\n"
     ]
    },
    {
     "name": "stderr",
     "output_type": "stream",
     "text": [
      "/users/gpu/ayushya/miniconda2/envs/ayushya/lib/python2.7/site-packages/ipykernel_launcher.py:9: RuntimeWarning: invalid value encountered in divide\n",
      "  if __name__ == '__main__':\n",
      "/users/gpu/ayushya/miniconda2/envs/ayushya/lib/python2.7/site-packages/ipykernel_launcher.py:24: RuntimeWarning: invalid value encountered in greater_equal\n",
      "/users/gpu/ayushya/miniconda2/envs/ayushya/lib/python2.7/site-packages/ipykernel_launcher.py:24: RuntimeWarning: invalid value encountered in greater\n"
     ]
    }
   ],
   "source": [
    "stft_p = input_pose\n",
    "c, h, w = stft_p.shape\n",
    "peak_counter = 0\n",
    "all_peaks = []\n",
    "for part in range(c):\n",
    "    x_list = []\n",
    "    y_list = []\n",
    "    map_ori = stft_p[part,:,:]\n",
    "    map_ori = map_ori/map_ori.max()\n",
    "    thr1 = 0\n",
    "#     map = map_ori\n",
    "    map = gaussian_filter(map_ori, sigma=3)\n",
    "#     plt.figure()\n",
    "#     plt.imshow(map)\n",
    "#     plt.show()\n",
    "    map_left = np.zeros(map.shape)\n",
    "    map_left[1:,:] = map[:-1,:]\n",
    "    map_right = np.zeros(map.shape)\n",
    "    map_right[:-1,:] = map[1:,:]\n",
    "    map_up = np.zeros(map.shape)\n",
    "    map_up[:,1:] = map[:,:-1]\n",
    "    map_down = np.zeros(map.shape)\n",
    "    map_down[:,:-1] = map[:,1:]\n",
    "    peaks_binary = np.logical_and.reduce((map>=map_left, map>=map_right, map>=map_up, map>=map_down, map > 2*thr1))\n",
    "    peaks = zip(np.nonzero(peaks_binary)[1], np.nonzero(peaks_binary)[0]) # note reverse\n",
    "    peaks_with_score = [x + (map_ori[x[1],x[0]],) for x in peaks]\n",
    "    id = range(peak_counter, peak_counter + len(peaks))\n",
    "    peaks_with_score_and_id = [peaks_with_score[i] + (id[i],) for i in range(len(id))]\n",
    "    all_peaks.append(peaks_with_score_and_id)\n",
    "    peak_counter += len(peaks)\n",
    "    print(len(peaks))\n",
    "\n",
    "print(peak_counter)\n",
    "print(all_peaks[0][0])"
   ]
  },
  {
   "cell_type": "code",
   "execution_count": 295,
   "metadata": {},
   "outputs": [
    {
     "data": {
      "image/png": "[encoded data removed]",
      "text/plain": [
       "<matplotlib.figure.Figure at 0x7fd14c18fe90>"
      ]
     },
     "metadata": {},
     "output_type": "display_data"
    }
   ],
   "source": [
    "testim = np.zeros((input_pose.shape[1],input_pose.shape[2],3))\n",
    "colors = [[255, 0, 0], [255, 85, 0], [255, 170, 0], [255, 255, 0], [170, 255, 0], [85, 255, 0], [0, 255, 0], \\\n",
    "          [0, 255, 85], [0, 255, 170], [0, 255, 255], [0, 170, 255], [0, 85, 255], [0, 0, 255], [85, 0, 255], \\\n",
    "          [170, 0, 255], [255, 0, 255], [255, 0, 170], [255, 0, 85]]\n",
    "for peak in all_peaks:\n",
    "    for human in peak:\n",
    "        x_p = human[0]\n",
    "        y_p = human[1]\n",
    "        cv2.circle(testim, (int(x_p),int(y_p)), 4, colors[i])\n",
    "plt.figure()\n",
    "plt.imshow(testim)\n",
    "plt.show()"
   ]
  },
  {
   "cell_type": "code",
   "execution_count": 296,
   "metadata": {},
   "outputs": [
    {
     "name": "stdout",
     "output_type": "stream",
     "text": [
      "(0, 3, 3)\n",
      "(1, 3, 3)\n",
      "(2, 3, 4)\n",
      "(3, 4, 3)\n",
      "(4, 3, 3)\n",
      "(5, 3, 3)\n",
      "(6, 3, 0)\n",
      "(7, 3, 3)\n",
      "(8, 3, 3)\n",
      "(9, 3, 2)\n",
      "(10, 3, 3)\n",
      "(11, 3, 3)\n",
      "(12, 3, 0)\n",
      "(0, (3, 5))\n",
      "(1, (3, 5))\n",
      "(2, (2, 5))\n",
      "(3, (1, 5))\n",
      "(4, (2, 5))\n",
      "(5, (2, 5))\n",
      "(7, (3, 5))\n",
      "(8, (2, 5))\n",
      "(9, (0, 5))\n",
      "(10, (2, 5))\n",
      "(11, (2, 5))\n"
     ]
    },
    {
     "name": "stderr",
     "output_type": "stream",
     "text": [
      "/users/gpu/ayushya/miniconda2/envs/ayushya/lib/python2.7/site-packages/ipykernel_launcher.py:58: DeprecationWarning: elementwise != comparison failed; this will raise an error in the future.\n"
     ]
    }
   ],
   "source": [
    "limbSeq =  [[0,1],[1,2],[2,3],[3,4],[1,5],[5,6],[6,7],[1,8],[8,9],[9,10],[1,11],[11,12],[12,13]]\n",
    "\n",
    "connection_all = []\n",
    "special_k = []\n",
    "mid_num = 10\n",
    "for k in range(len(limbSeq)):\n",
    "    # print(\"k\")\n",
    "    score_mid = input_paf[[2*k,2*k+1],:,:]\n",
    "    candA = all_peaks[limbSeq[k][0]]\n",
    "    candB = all_peaks[limbSeq[k][1]]\n",
    "\n",
    "    nA = len(candA)\n",
    "    nB = len(candB)\n",
    "    print(k,nA,nB)\n",
    "    indexA, indexB = limbSeq[k]\n",
    "    if(nA != 0 and nB != 0):\n",
    "        connection_candidate = []\n",
    "        for i in range(nA):\n",
    "            # print(nB)\n",
    "            for j in range(nB):\n",
    "                # print(\"j\")\n",
    "                vec = np.subtract(candB[j][:2], candA[i][:2])\n",
    "                norm = math.sqrt(vec[0]*vec[0] + vec[1]*vec[1])\n",
    "                if norm == 0:\n",
    "                    continue\n",
    "                vec = np.divide(vec, norm)\n",
    "\n",
    "                startend = zip(np.linspace(candA[i][0], candB[j][0], num=mid_num), \\\n",
    "                           np.linspace(candA[i][1], candB[j][1], num=mid_num))\n",
    "\n",
    "                vec_x = np.array([score_mid[0,int(round(startend[I][1])), int(round(startend[I][0]))] \\\n",
    "                          for I in range(len(startend))])\n",
    "                vec_y = np.array([score_mid[1,int(round(startend[I][1])), int(round(startend[I][0]))] \\\n",
    "                          for I in range(len(startend))])\n",
    "\n",
    "                score_midpts = np.multiply(vec_x, vec[0]) + np.multiply(vec_y, vec[1])\n",
    "                score_with_dist_prior = sum(score_midpts)/len(score_midpts) + min(0.5*h/norm-1, 0)\n",
    "\n",
    "                criterion1 = fun1(score_midpts) > 0.6 * len(score_midpts)\n",
    "                criterion2 = score_with_dist_prior > 0\n",
    "#                 criterion2 = 1\n",
    "                if criterion1 and criterion2:\n",
    "                    connection_candidate.append([i, j, score_with_dist_prior, score_with_dist_prior+candA[i][2]+candB[j][2]])\n",
    "#                     print([i, j, score_with_dist_prior, score_with_dist_prior+candA[i][2]+candB[j][2]])\n",
    "        connection_candidate = sorted(connection_candidate, key=lambda x: x[2], reverse=True)\n",
    "        connection = np.zeros((0,5))\n",
    "        for c in range(len(connection_candidate)):\n",
    "            # print(\"c\")\n",
    "            i,j,s = connection_candidate[c][0:3]\n",
    "            if(i not in connection[:,3] and j not in connection[:,4]):\n",
    "                connection = np.vstack([connection, [candA[i][3], candB[j][3], s, i, j]])\n",
    "                if(len(connection) >= min(nA, nB)):\n",
    "                    break\n",
    "\n",
    "        connection_all.append(connection)\n",
    "    else:\n",
    "        special_k.append(k)\n",
    "        connection_all.append([])\n",
    "\n",
    "for i in range(len(connection_all)):\n",
    "    if(connection_all[i] != []):\n",
    "        print(i,connection_all[i].shape)"
   ]
  },
  {
   "cell_type": "code",
   "execution_count": 297,
   "metadata": {},
   "outputs": [
    {
     "name": "stdout",
     "output_type": "stream",
     "text": [
      "[[  0.   3.   6.  -1.  -1.  18.  21.  -1.  22.  -1.  -1.  30.  35.  -1.]\n",
      " [  1.   5.   8.  12.  -1.  -1.  -1.  -1.  24.  26.  -1.  -1.  -1.  -1.]\n",
      " [  2.   4.   7.  10.  14.  16.  20.  -1.  23.  25.  -1.  31.  34.  -1.]]\n"
     ]
    }
   ],
   "source": [
    "subset = -1 * np.ones((0, 16))\n",
    "candidate = np.array([item for sublist in all_peaks for item in sublist])\n",
    "\n",
    "for k in range(len(limbSeq)):\n",
    "    if k not in special_k:\n",
    "        partAs = connection_all[k][:,0]\n",
    "        partBs = connection_all[k][:,1]\n",
    "        indexA, indexB = np.array(limbSeq[k])\n",
    "        for i in range(len(connection_all[k])): #= 1:size(temp,1)\n",
    "            found = 0\n",
    "            subset_idx = [-1, -1]\n",
    "            for j in range(len(subset)): #1:size(subset,1):\n",
    "                if subset[j][indexA] == partAs[i] or subset[j][indexB] == partBs[i]:\n",
    "                    subset_idx[found] = j\n",
    "                    found += 1\n",
    "\n",
    "            if found == 1:\n",
    "                j = subset_idx[0]\n",
    "                if(subset[j][indexB] != partBs[i]):\n",
    "                    subset[j][indexB] = partBs[i]\n",
    "                    subset[j][-1] += 1\n",
    "                    subset[j][-2] += candidate[partBs[i].astype(int), 2] + connection_all[k][i][2]\n",
    "            elif found == 2: # if found 2 and disjoint, merge them\n",
    "                j1, j2 = subset_idx\n",
    "                #print \"found = 2\"\n",
    "                membership = ((subset[j1]>=0).astype(int) + (subset[j2]>=0).astype(int))[:-2]\n",
    "                if len(np.nonzero(membership == 2)[0]) == 0: #merge\n",
    "                    subset[j1][:-2] += (subset[j2][:-2] + 1)\n",
    "                    subset[j1][-2:] += subset[j2][-2:]\n",
    "                    subset[j1][-2] += connection_all[k][i][2]\n",
    "                    subset = np.delete(subset, j2, 0)\n",
    "                else: # as like found == 1\n",
    "                    subset[j1][indexB] = partBs[i]\n",
    "                    subset[j1][-1] += 1\n",
    "                    subset[j1][-2] += candidate[partBs[i].astype(int), 2] + connection_all[k][i][2]\n",
    "\n",
    "        # if find no partA in the subset, create a new subset\n",
    "            elif not found and k < 17:\n",
    "                row = -1 * np.ones(16)\n",
    "                row[indexA] = partAs[i]\n",
    "                row[indexB] = partBs[i]\n",
    "                row[-1] = 2\n",
    "                row[-2] = sum(candidate[connection_all[k][i,:2].astype(int), 2]) + connection_all[k][i][2]\n",
    "                subset = np.vstack([subset, row])\n",
    "deleteIdx = []\n",
    "for i in range(len(subset)):\n",
    "    if subset[i][-1] < 4 or subset[i][-2]/subset[i][-1] < 0.4:\n",
    "        deleteIdx.append(i)\n",
    "subset = np.delete(subset, deleteIdx, axis=0)\n",
    "print(subset[:,:-2])\n"
   ]
  },
  {
   "cell_type": "code",
   "execution_count": 298,
   "metadata": {},
   "outputs": [],
   "source": [
    "outim = np.ones((input_pose.shape[1],input_pose.shape[2],3))*100\n",
    "colors = [[255, 0, 0], [255, 85, 0], [255, 170, 0], [255, 255, 0], [170, 255, 0], [85, 255, 0], [0, 255, 0], \\\n",
    "          [0, 255, 85], [0, 255, 170], [0, 255, 255], [0, 170, 255], [0, 85, 255], [0, 0, 255], [85, 0, 255], \\\n",
    "          [170, 0, 255], [255, 0, 255], [255, 0, 170], [255, 0, 85]]\n",
    "for n in range(len(subset)):\n",
    "    for i in range(14):\n",
    "        index = subset[n][i]\n",
    "        if(index<0):\n",
    "            continue\n",
    "        x_p = candidate[index.astype(int),0]\n",
    "        y_p = candidate[index.astype(int),1]\n",
    "#         print(x_p,y_p)\n",
    "        cv2.circle(outim, (int(x_p),int(y_p)), 5, colors[i],thickness=-1)\n",
    "    for i,limb in enumerate(limbSeq):\n",
    "        index1 = subset[n][limb[0]]\n",
    "        index2 = subset[n][limb[1]]\n",
    "        if(index1<0 or index2<0):\n",
    "            continue\n",
    "        x_1 = candidate[index1.astype(int),1]\n",
    "        y_1 = candidate[index1.astype(int),0]\n",
    "        x_2 = candidate[index2.astype(int),1]\n",
    "        y_2 = candidate[index2.astype(int),0]\n",
    "        length = ((x_1 - x_2) ** 2 + (y_1 - y_2) ** 2) ** 0.5\n",
    "        angle = math.degrees(math.atan2(x_1 - x_2, y_1 - y_2))\n",
    "        polygon = cv2.ellipse2Poly((int((y_1+y_2)/2),int((x_1+x_2)/2)), (int(length/2), 4), int(angle), 0, 360, 1)\n",
    "        cv2.fillConvexPoly(outim, polygon, colors[i])"
   ]
  },
  {
   "cell_type": "code",
   "execution_count": 299,
   "metadata": {},
   "outputs": [
    {
     "data": {
      "image/png": "[encoded data removed]",
      "text/plain": [
       "<matplotlib.figure.Figure at 0x7fd148cf3f90>"
      ]
     },
     "metadata": {},
     "output_type": "display_data"
    }
   ],
   "source": [
    "plt.figure()\n",
    "plt.imshow(outim)\n",
    "plt.show()"
   ]
  },
  {
   "cell_type": "code",
   "execution_count": null,
   "metadata": {
    "collapsed": true
   },
   "outputs": [],
   "source": []
  }
 ],
 "metadata": {
  "kernelspec": {
   "display_name": "Python 2",
   "language": "python",
   "name": "python2"
  },
  "language_info": {
   "codemirror_mode": {
    "name": "ipython",
    "version": 2
   },
   "file_extension": ".py",
   "mimetype": "text/x-python",
   "name": "python",
   "nbconvert_exporter": "python",
   "pygments_lexer": "ipython2",
   "version": "2.7.14"
  }
 },
 "nbformat": 4,
 "nbformat_minor": 2
}
