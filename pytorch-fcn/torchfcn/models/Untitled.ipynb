{
 "cells": [
  {
   "cell_type": "code",
   "execution_count": 5,
   "metadata": {
    "collapsed": true
   },
   "outputs": [],
   "source": [
    "import torch \n",
    "import torchfcn\n",
    "import torch.nn as nn"
   ]
  },
  {
   "cell_type": "code",
   "execution_count": 21,
   "metadata": {
    "collapsed": true
   },
   "outputs": [],
   "source": [
    "def copy_params_from_vgg16(model,vgg16):\n",
    "    # return\n",
    "    features = [\n",
    "        model.conv1_1, model.relu1_1,\n",
    "        model.conv1_2, model.relu1_2,\n",
    "        model.pool1,\n",
    "        model.conv2_1, model.relu2_1,\n",
    "        model.conv2_2, model.relu2_2,\n",
    "        model.pool2,\n",
    "        model.conv3_1, model.relu3_1,\n",
    "        model.conv3_2, model.relu3_2,\n",
    "        model.conv3_3, model.relu3_3,\n",
    "        model.pool3,\n",
    "        model.conv4_1, model.relu4_1,\n",
    "        model.conv4_2, model.relu4_2,\n",
    "        model.conv4_3, model.relu4_3,\n",
    "#         model.pool4,        \n",
    "#         model.conv5_1, model.relu5_1,\n",
    "#         model.conv5_2, model.relu5_2,\n",
    "#         model.conv5_3, model.relu5_3,\n",
    "#         model.pool5,\n",
    "    ]\n",
    "    for i in xrange(23):\n",
    "#         for\n",
    "#     for l1, l2 in zip(vgg16.features, features):\n",
    "        l2 = features[i]\n",
    "        l1 = vgg16.features[i]\n",
    "        if isinstance(l1, nn.Conv2d) and isinstance(l2, nn.Conv2d):\n",
    "            assert l1.weight.size() == l2.weight.size()\n",
    "            assert l1.bias.size() == l2.bias.size()\n",
    "            l2.weight.data = l1.weight.data\n",
    "            l2.bias.data = l1.bias.data"
   ]
  },
  {
   "cell_type": "code",
   "execution_count": 23,
   "metadata": {},
   "outputs": [
    {
     "name": "stdout",
     "output_type": "stream",
     "text": [
      "[/users/gpu/ayushya/data/models/pytorch/vgg16_from_caffe.pth] Checking md5 (aa75b158f4181e7f6230029eb96c1b13)\n"
     ]
    }
   ],
   "source": [
    "model = torchfcn.models.PAF32s_test(n_class=14)\n",
    "vgg16 = torchfcn.models.VGG16(pretrained=True)"
   ]
  },
  {
   "cell_type": "code",
   "execution_count": 24,
   "metadata": {},
   "outputs": [],
   "source": [
    "copy_params_from_vgg16(model,vgg16)"
   ]
  },
  {
   "cell_type": "code",
   "execution_count": 11,
   "metadata": {},
   "outputs": [
    {
     "data": {
      "text/plain": [
       "<bound method Sequential.modules of Sequential (\n",
       "  (0): Conv2d(3, 64, kernel_size=(3, 3), stride=(1, 1), padding=(1, 1))\n",
       "  (1): ReLU (inplace)\n",
       "  (2): Conv2d(64, 64, kernel_size=(3, 3), stride=(1, 1), padding=(1, 1))\n",
       "  (3): ReLU (inplace)\n",
       "  (4): MaxPool2d (size=(2, 2), stride=(2, 2), dilation=(1, 1))\n",
       "  (5): Conv2d(64, 128, kernel_size=(3, 3), stride=(1, 1), padding=(1, 1))\n",
       "  (6): ReLU (inplace)\n",
       "  (7): Conv2d(128, 128, kernel_size=(3, 3), stride=(1, 1), padding=(1, 1))\n",
       "  (8): ReLU (inplace)\n",
       "  (9): MaxPool2d (size=(2, 2), stride=(2, 2), dilation=(1, 1))\n",
       "  (10): Conv2d(128, 256, kernel_size=(3, 3), stride=(1, 1), padding=(1, 1))\n",
       "  (11): ReLU (inplace)\n",
       "  (12): Conv2d(256, 256, kernel_size=(3, 3), stride=(1, 1), padding=(1, 1))\n",
       "  (13): ReLU (inplace)\n",
       "  (14): Conv2d(256, 256, kernel_size=(3, 3), stride=(1, 1), padding=(1, 1))\n",
       "  (15): ReLU (inplace)\n",
       "  (16): MaxPool2d (size=(2, 2), stride=(2, 2), dilation=(1, 1))\n",
       "  (17): Conv2d(256, 512, kernel_size=(3, 3), stride=(1, 1), padding=(1, 1))\n",
       "  (18): ReLU (inplace)\n",
       "  (19): Conv2d(512, 512, kernel_size=(3, 3), stride=(1, 1), padding=(1, 1))\n",
       "  (20): ReLU (inplace)\n",
       "  (21): Conv2d(512, 512, kernel_size=(3, 3), stride=(1, 1), padding=(1, 1))\n",
       "  (22): ReLU (inplace)\n",
       "  (23): MaxPool2d (size=(2, 2), stride=(2, 2), dilation=(1, 1))\n",
       "  (24): Conv2d(512, 512, kernel_size=(3, 3), stride=(1, 1), padding=(1, 1))\n",
       "  (25): ReLU (inplace)\n",
       "  (26): Conv2d(512, 512, kernel_size=(3, 3), stride=(1, 1), padding=(1, 1))\n",
       "  (27): ReLU (inplace)\n",
       "  (28): Conv2d(512, 512, kernel_size=(3, 3), stride=(1, 1), padding=(1, 1))\n",
       "  (29): ReLU (inplace)\n",
       "  (30): MaxPool2d (size=(2, 2), stride=(2, 2), dilation=(1, 1))\n",
       ")>"
      ]
     },
     "execution_count": 11,
     "metadata": {},
     "output_type": "execute_result"
    }
   ],
   "source": [
    "vgg16.features.modules"
   ]
  },
  {
   "cell_type": "code",
   "execution_count": 20,
   "metadata": {},
   "outputs": [
    {
     "data": {
      "text/plain": [
       "MaxPool2d (size=(2, 2), stride=(2, 2), dilation=(1, 1))"
      ]
     },
     "execution_count": 20,
     "metadata": {},
     "output_type": "execute_result"
    }
   ],
   "source": [
    "vgg16.features[23]"
   ]
  }
 ],
 "metadata": {
  "kernelspec": {
   "display_name": "Python 2",
   "language": "python",
   "name": "python2"
  },
  "language_info": {
   "codemirror_mode": {
    "name": "ipython",
    "version": 2
   },
   "file_extension": ".py",
   "mimetype": "text/x-python",
   "name": "python",
   "nbconvert_exporter": "python",
   "pygments_lexer": "ipython2",
   "version": "2.7.14"
  }
 },
 "nbformat": 4,
 "nbformat_minor": 2
}
